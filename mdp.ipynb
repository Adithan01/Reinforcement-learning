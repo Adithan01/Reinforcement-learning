{
  "nbformat": 4,
  "nbformat_minor": 0,
  "metadata": {
    "colab": {
      "provenance": []
    },
    "kernelspec": {
      "name": "python3",
      "display_name": "Python 3"
    },
    "language_info": {
      "name": "python"
    }
  },
  "cells": [
    {
      "cell_type": "code",
      "execution_count": 1,
      "metadata": {
        "colab": {
          "base_uri": "https://localhost:8080/"
        },
        "id": "4QXGrxAyxnZL",
        "outputId": "0cff6f7e-d1a2-45a1-e4ae-53d835588cfe"
      },
      "outputs": [
        {
          "output_type": "stream",
          "name": "stdout",
          "text": [
            "Requirement already satisfied: numpy in /usr/local/lib/python3.10/dist-packages (1.26.4)\n",
            "Requirement already satisfied: matplotlib in /usr/local/lib/python3.10/dist-packages (3.7.1)\n",
            "Requirement already satisfied: tqdm in /usr/local/lib/python3.10/dist-packages (4.66.5)\n",
            "Requirement already satisfied: contourpy>=1.0.1 in /usr/local/lib/python3.10/dist-packages (from matplotlib) (1.3.0)\n",
            "Requirement already satisfied: cycler>=0.10 in /usr/local/lib/python3.10/dist-packages (from matplotlib) (0.12.1)\n",
            "Requirement already satisfied: fonttools>=4.22.0 in /usr/local/lib/python3.10/dist-packages (from matplotlib) (4.54.1)\n",
            "Requirement already satisfied: kiwisolver>=1.0.1 in /usr/local/lib/python3.10/dist-packages (from matplotlib) (1.4.7)\n",
            "Requirement already satisfied: packaging>=20.0 in /usr/local/lib/python3.10/dist-packages (from matplotlib) (24.1)\n",
            "Requirement already satisfied: pillow>=6.2.0 in /usr/local/lib/python3.10/dist-packages (from matplotlib) (10.4.0)\n",
            "Requirement already satisfied: pyparsing>=2.3.1 in /usr/local/lib/python3.10/dist-packages (from matplotlib) (3.2.0)\n",
            "Requirement already satisfied: python-dateutil>=2.7 in /usr/local/lib/python3.10/dist-packages (from matplotlib) (2.8.2)\n",
            "Requirement already satisfied: six>=1.5 in /usr/local/lib/python3.10/dist-packages (from python-dateutil>=2.7->matplotlib) (1.16.0)\n"
          ]
        }
      ],
      "source": [
        "# Install necessary libraries\n",
        "!pip install numpy matplotlib tqdm\n",
        "\n",
        "import numpy as np\n",
        "import matplotlib.pyplot as plt\n",
        "import random\n",
        "from tqdm import tqdm\n"
      ]
    },
    {
      "cell_type": "code",
      "source": [
        "# Step 1: Set Up the Environment\n",
        "class GridEnvironment:\n",
        "    def __init__(self, size=10, num_obstacles=10):\n",
        "        self.size = size\n",
        "        self.num_obstacles = num_obstacles\n",
        "        self.grid = np.zeros((size, size))\n",
        "        self.start, self.goal = self._place_start_goal()\n",
        "        self.obstacles = self._create_obstacles()\n",
        "        self.state = self.start\n",
        "\n",
        "    def _place_start_goal(self):\n",
        "        start = (0, 0)  # Fixed start position for simplicity\n",
        "        goal = (self.size - 1, self.size - 1)  # Fixed goal position\n",
        "        return start, goal\n",
        "\n",
        "    def _create_obstacles(self):\n",
        "        obstacles = set()\n",
        "        while len(obstacles) < self.num_obstacles:\n",
        "            x, y = random.randint(0, self.size - 1), random.randint(0, self.size - 1)\n",
        "            if (x, y) != self.start and (x, y) != self.goal:\n",
        "                obstacles.add((x, y))\n",
        "                self.grid[x, y] = -1  # Mark obstacle\n",
        "        return obstacles\n",
        "\n",
        "    def reset(self):\n",
        "        self.state = self.start\n",
        "        return self.state\n",
        "\n",
        "    def step(self, action):\n",
        "        x, y = self.state\n",
        "        if action == 0:  # Up\n",
        "            new_state = (max(x - 1, 0), y)\n",
        "        elif action == 1:  # Down\n",
        "            new_state = (min(x + 1, self.size - 1), y)\n",
        "        elif action == 2:  # Left\n",
        "            new_state = (x, max(y - 1, 0))\n",
        "        elif action == 3:  # Right\n",
        "            new_state = (x, min(y + 1, self.size - 1))\n",
        "\n",
        "        # Check for obstacles\n",
        "        if new_state in self.obstacles:\n",
        "            reward = -1  # Penalty for hitting an obstacle\n",
        "            new_state = self.state  # Stay in place\n",
        "        elif new_state == self.goal:\n",
        "            reward = 1  # Reward for reaching the goal\n",
        "        else:\n",
        "            reward = -0.01  # Small penalty for each step\n",
        "\n",
        "        self.state = new_state\n",
        "        done = self.state == self.goal\n",
        "        return new_state, reward, done\n",
        "\n",
        "    def render(self):\n",
        "        grid_copy = self.grid.copy()\n",
        "        grid_copy[self.start] = 0.5  # Start\n",
        "        grid_copy[self.goal] = 0.8  # Goal\n",
        "        plt.imshow(grid_copy, cmap='gray')\n",
        "        plt.show()\n",
        "\n"
      ],
      "metadata": {
        "id": "_7MiBewVx010"
      },
      "execution_count": 2,
      "outputs": []
    },
    {
      "cell_type": "code",
      "source": [
        "# Step 2: Implement the Q-Learning Agent\n",
        "class QLearningAgent:\n",
        "    def __init__(self, environment, alpha=0.1, gamma=0.9, epsilon=0.9):\n",
        "        self.env = environment\n",
        "        self.q_table = np.zeros((environment.size, environment.size, 4))  # Q-values for each state-action pair\n",
        "        self.alpha = alpha\n",
        "        self.gamma = gamma\n",
        "        self.epsilon = epsilon\n",
        "\n",
        "    def choose_action(self, state):\n",
        "        if random.uniform(0, 1) < self.epsilon:\n",
        "            return random.randint(0, 3)  # Explore\n",
        "        return np.argmax(self.q_table[state])  # Exploit\n",
        "\n",
        "    def update(self, state, action, reward, next_state):\n",
        "        best_next_action = np.argmax(self.q_table[next_state])\n",
        "        td_target = reward + self.gamma * self.q_table[next_state][best_next_action]\n",
        "        td_delta = td_target - self.q_table[state][action]\n",
        "        self.q_table[state][action] += self.alpha * td_delta\n",
        "\n",
        "    def train(self, episodes=100):  # Increased episodes for better training\n",
        "        for _ in tqdm(range(episodes), desc=\"Training Episodes\"):\n",
        "            state = self.env.reset()\n",
        "            done = False\n",
        "            while not done:  # Run until the goal is reached\n",
        "                action = self.choose_action(state)\n",
        "                next_state, reward, done = self.env.step(action)\n",
        "                self.update(state, action, reward, next_state)\n",
        "                state = next_state\n",
        "\n",
        "# Step 3: Run the Simulation\n",
        "def main():\n",
        "    env = GridEnvironment(size=30, num_obstacles=100)  # 10x10 grid with 10 obstacles\n",
        "    agent = QLearningAgent(env)\n",
        "    agent.train(episodes=100)  # Train the agent for a larger number of episodes\n",
        "\n",
        "    # Visualize the Q-values with enhanced color range\n",
        "    plt.imshow(np.max(agent.q_table, axis=2), cmap='plasma')  # Changed colormap to 'plasma'\n",
        "    plt.colorbar()\n",
        "    plt.title(\"Q-values Heatmap\")\n",
        "    plt.show()\n",
        "\n",
        "# Run the simulation\n",
        "main()\n"
      ],
      "metadata": {
        "colab": {
          "base_uri": "https://localhost:8080/",
          "height": 470
        },
        "id": "AaQy27xjyDog",
        "outputId": "dbcfba02-eaff-4bc1-cc9f-b3271d6320e6"
      },
      "execution_count": 4,
      "outputs": [
        {
          "output_type": "stream",
          "name": "stderr",
          "text": [
            "Training Episodes: 100%|██████████| 100/100 [00:02<00:00, 45.06it/s]\n"
          ]
        },
        {
          "output_type": "display_data",
          "data": {
            "text/plain": [
              "<Figure size 640x480 with 2 Axes>"
            ],
            "image/png": "[encoded data removed]"
          },
          "metadata": {}
        }
      ]
    },
    {
      "cell_type": "markdown",
      "source": [],
      "metadata": {
        "id": "JDsdO9wOylLg"
      }
    },
    {
      "cell_type": "code",
      "source": [],
      "metadata": {
        "id": "qVSrMADgyEJC"
      },
      "execution_count": null,
      "outputs": []
    }
  ]
}